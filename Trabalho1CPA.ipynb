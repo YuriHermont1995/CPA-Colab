{
  "nbformat": 4,
  "nbformat_minor": 0,
  "metadata": {
    "colab": {
      "provenance": [],
      "include_colab_link": true
    },
    "kernelspec": {
      "name": "python3",
      "display_name": "Python 3"
    },
    "language_info": {
      "name": "python"
    }
  },
  "cells": [
    {
      "cell_type": "markdown",
      "metadata": {
        "id": "view-in-github",
        "colab_type": "text"
      },
      "source": [
        "<a href=\"https://colab.research.google.com/github/YuriHermont1995/CPA-Colab/blob/main/Trabalho1CPA.ipynb\" target=\"_parent\"><img src=\"https://colab.research.google.com/assets/colab-badge.svg\" alt=\"Open In Colab\"/></a>"
      ]
    },
    {
      "cell_type": "markdown",
      "source": [
        "# EFC1 GCC253 - Complexidade e Projeto de Algoritmos - 5 pontos.\n",
        "Docente: Douglas H. S. Abreu\n",
        "\n",
        "Discentes: \n",
        "\n",
        "> 10A\n",
        "*   Giovanna Cristina Santos da Trindade - 202010629\n",
        "*   Jhennifer Aparecida Rodrigues Borges - 202010468\n",
        "\n",
        "> 14A\n",
        "*   João Vitor Costa de Góes - 201620558\n",
        "*   Yuri de Souza Hermont - 201820375\n",
        "\n",
        "\n",
        "Link do repositório GitHub:\n",
        "\n",
        "● O trabalho deve ser feito em grupos de no máximo 4 componentes (Apenas um deve enviar a atividade no Campus Virtual)\n",
        "\n",
        "● Trabalhos entregues após a data limite não serão aceitos\n",
        "\n",
        "● Data limite de entrega: 20 de Novembro de 2022 : 23h55m\n",
        "\n",
        "● Enviar o trabalho para o campus virtual, do seguinte modo: link do repositório GitHub com acesso ao Notebook.\n",
        "\n",
        "● O trabalho deve ser desenvolvido no modelo Notebook utilizando preferencialmente a linguagem Python"
      ],
      "metadata": {
        "id": "dND1OfSXhQFw"
      }
    },
    {
      "cell_type": "code",
      "source": [],
      "metadata": {
        "id": "4-P5gtqYhwsM"
      },
      "execution_count": null,
      "outputs": []
    },
    {
      "cell_type": "markdown",
      "metadata": {
        "id": "J3d6JlRUxREN"
      },
      "source": [
        "# Importações e Variáveis globais"
      ]
    },
    {
      "cell_type": "code",
      "execution_count": null,
      "metadata": {
        "id": "Ur1DVGQAxac4"
      },
      "outputs": [],
      "source": [
        "import numpy as np\n",
        "\n",
        "global_1=0"
      ]
    },
    {
      "cell_type": "code",
      "source": [],
      "metadata": {
        "id": "yk9dD0wyh0bK"
      },
      "execution_count": null,
      "outputs": []
    },
    {
      "cell_type": "markdown",
      "metadata": {
        "id": "kPNpzNYwkKAO"
      },
      "source": [
        "# Funções de Ordenação\n",
        "\n",
        "> Utilize este espaço para definir as funções de ordenação.\n",
        "\n"
      ]
    },
    {
      "cell_type": "markdown",
      "metadata": {
        "id": "nEw1UEsmoKMg"
      },
      "source": [
        "##  Insertion Sort\n"
      ]
    },
    {
      "cell_type": "code",
      "execution_count": null,
      "metadata": {
        "id": "kbOrhdB-j_px"
      },
      "outputs": [],
      "source": [
        "def insertionSort(array):\n",
        "\n",
        "  for i in range(1,len(array)):\n",
        "    chave = array[i]\n",
        "\n",
        "    j=i-1;\n",
        "    while j>=0 and chave <array[j] :\n",
        "      array[j+1] = array[j]\n",
        "      j-=1\n",
        "\n",
        "    array[j+1]=chave\n",
        "\n",
        "  \n",
        "  return array"
      ]
    },
    {
      "cell_type": "markdown",
      "metadata": {
        "id": "9a-wJwU-wtmQ"
      },
      "source": [
        "##  Merge Sort\n"
      ]
    },
    {
      "cell_type": "code",
      "execution_count": null,
      "metadata": {
        "id": "8cgIJ_4EwbPN"
      },
      "outputs": [],
      "source": [
        "def mergeSort(array):\n",
        "  if len(array) >1:\n",
        "    right = len(array)//2\n",
        "    left = array[:right]\n",
        "    meio = array[right:]\n",
        "\n",
        "    mergeSort(left)\n",
        "    mergeSort(meio)\n",
        "\n",
        "    i=j=k=0\n",
        "\n",
        "    while i<len(left) and j<len(meio):\n",
        "      if left[i]<meio[j]:\n",
        "        array[k] = left[i]\n",
        "        i+=1\n",
        "      else:\n",
        "        array[k] = meio[j]\n",
        "        j+=1\n",
        "      k +=1\n",
        "\n",
        "    while i<len(left):\n",
        "      array[k] = left[i]\n",
        "      i+=1\n",
        "      k+=1\n",
        "      \n",
        "    while j<len(meio):\n",
        "      array[k] = meio[j]\n",
        "      j+=1\n",
        "      k+=1\n",
        "\n",
        "\n",
        "  \n",
        "  return array"
      ]
    },
    {
      "cell_type": "markdown",
      "metadata": {
        "id": "8dWpeYUvw-wU"
      },
      "source": [
        "##  Selection Sort\n"
      ]
    },
    {
      "cell_type": "code",
      "execution_count": null,
      "metadata": {
        "id": "vNgUDShawygu"
      },
      "outputs": [],
      "source": [
        "def selectionSort(array):\n",
        "  \n",
        "  for index in range(0, len(array)):\n",
        "    chave_menor_numero = index\n",
        "    for k in range(index + 1, len(array)):\n",
        "      if(array[k] < array[chave_menor_numero]):\n",
        "        chave_menor_numero = k\n",
        "\n",
        "    #Realiza a troca de valores nas duas posições do array\n",
        "    valor_index = array[index]\n",
        "    array[index] = array[chave_menor_numero] \n",
        "    array[chave_menor_numero] = valor_index\n",
        "\n",
        "  return array"
      ]
    },
    {
      "cell_type": "markdown",
      "metadata": {
        "id": "zNI1kX0yyDrs"
      },
      "source": [
        "##  Bubble Sort\n"
      ]
    },
    {
      "cell_type": "code",
      "execution_count": null,
      "metadata": {
        "id": "6X_zk1yWxMQS"
      },
      "outputs": [],
      "source": [
        "def bubbleSort(array):\n",
        "  for j in range(len(array)):\n",
        "    for i in range(len(array) -1 ):\n",
        "      \n",
        "      if (array[i] > array[i+1]):\n",
        "        #Realiza a troca de valores nas duas posições do array\n",
        "        auxiliar = array[i]\n",
        "        array[i] = array[i+1]\n",
        "        array[i+1] = auxiliar\n",
        "        \n",
        "  return array"
      ]
    },
    {
      "cell_type": "markdown",
      "metadata": {
        "id": "vk4vOTkKyLB-"
      },
      "source": [
        "## Heap Sort"
      ]
    },
    {
      "cell_type": "code",
      "execution_count": null,
      "metadata": {
        "id": "39a7xXzLyH9g"
      },
      "outputs": [],
      "source": [
        "def heapSort(arr):\n",
        "      n = len(arr)\n",
        "  \n",
        "      # Build max heap\n",
        "      for i in range(n//2, -1, -1):\n",
        "          heapify(arr, n, i)\n",
        "  \n",
        "      for i in range(n-1, 0, -1):\n",
        "          # Swap\n",
        "          arr[i], arr[0] = arr[0], arr[i]\n",
        "  \n",
        "          # Heapify root element\n",
        "          heapify(arr, i, 0)\n",
        "\n",
        "      return arr\n",
        "\n",
        "def heapify(arr, n, i):\n",
        "      # Find largest among root and children\n",
        "      largest = i\n",
        "      l = 2 * i + 1\n",
        "      r = 2 * i + 2\n",
        "  \n",
        "      if l < n and arr[i] < arr[l]:\n",
        "          largest = l\n",
        "  \n",
        "      if r < n and arr[largest] < arr[r]:\n",
        "          largest = r\n",
        "  \n",
        "      # If root is not largest, swap with largest and continue heapifying\n",
        "      if largest != i:\n",
        "          arr[i], arr[largest] = arr[largest], arr[i]\n",
        "          heapify(arr, n, largest)"
      ]
    },
    {
      "cell_type": "markdown",
      "metadata": {
        "id": "fFiGho5CyU3t"
      },
      "source": [
        "## Quick Sort com pivo sendo o ultimo elemento do arranjo\n",
        "\n",
        "> pivo = *A[A-comprimento]*"
      ]
    },
    {
      "cell_type": "code",
      "execution_count": null,
      "metadata": {
        "id": "dbg6gSGkZD4Y"
      },
      "outputs": [],
      "source": [
        "def partition(lista, inicio, fim):\n",
        "  pivo = lista[fim]\n",
        "  i = inicio - 1\n",
        "\n",
        "  for j in range(inicio, fim):\n",
        "\n",
        "    if lista[j] <= pivo:\n",
        "      i = i + 1\n",
        "      (lista[i], lista[j]) = (lista[j], lista[i])\n",
        "\n",
        "  (lista[i + 1], lista[fim]) = (lista[fim], lista[i + 1])\n",
        "\n",
        "  return i + 1\n",
        "\n",
        "def quickSort(lista, inicio, fim):\n",
        "  if inicio < fim:\n",
        "    q = partition(lista, inicio, fim)\n",
        "    quickSort(lista, inicio, q - 1)\n",
        "    quickSort(lista, q + 1, fim)\n",
        " \n",
        "    return lista\n",
        "  "
      ]
    },
    {
      "cell_type": "code",
      "execution_count": null,
      "metadata": {
        "id": "aMLRh7KLhN3h"
      },
      "outputs": [],
      "source": []
    },
    {
      "cell_type": "markdown",
      "metadata": {
        "id": "VomdAnCrzEv1"
      },
      "source": [
        "# Questões"
      ]
    },
    {
      "cell_type": "markdown",
      "metadata": {
        "id": "3QKV979kzItD"
      },
      "source": [
        "\n",
        "\n",
        "1.   Escolha pelo menos 3 arranjos. Ex: ***A[5,...,1000,...,100]*** e mostre o funcionamento dos Algoritmos realizando a ordenação.\n",
        "\n",
        "\n",
        "\n"
      ]
    },
    {
      "cell_type": "code",
      "source": [
        "arranjo1 = [10,11,2,300,100,130,20,50,3]\n",
        "\n",
        "print(insertionSort(arranjo1))\n"
      ],
      "metadata": {
        "colab": {
          "base_uri": "https://localhost:8080/"
        },
        "id": "AioPSbvljVEw",
        "outputId": "2112ef50-54bb-4a86-8c34-48b605fa7a54"
      },
      "execution_count": null,
      "outputs": [
        {
          "output_type": "stream",
          "name": "stdout",
          "text": [
            "[2, 3, 10, 11, 20, 50, 100, 130, 300]\n"
          ]
        }
      ]
    },
    {
      "cell_type": "code",
      "source": [
        "arranjo1 = [10,11,2,300,100,130,20,50,3]\n",
        "\n",
        "print(mergeSort(arranjo1))"
      ],
      "metadata": {
        "colab": {
          "base_uri": "https://localhost:8080/"
        },
        "id": "LWzcyCpXmuRT",
        "outputId": "b568ecb6-0ffb-4683-b145-09fae728a062"
      },
      "execution_count": null,
      "outputs": [
        {
          "output_type": "stream",
          "name": "stdout",
          "text": [
            "[2, 3, 10, 11, 20, 50, 100, 130, 300]\n"
          ]
        }
      ]
    },
    {
      "cell_type": "code",
      "source": [
        "arranjo1 = [10,11,2,300,100,130,20,50,3]\n",
        "size = len(arranjo1)\n",
        "print(quickSort(arranjo1, 0, size - 1))"
      ],
      "metadata": {
        "colab": {
          "base_uri": "https://localhost:8080/"
        },
        "id": "edDk56Ot2bhc",
        "outputId": "6c8e620a-2a43-4876-f382-ffc3b9924606"
      },
      "execution_count": null,
      "outputs": [
        {
          "output_type": "stream",
          "name": "stdout",
          "text": [
            "[2, 3, 10, 11, 20, 50, 100, 130, 300]\n"
          ]
        }
      ]
    },
    {
      "cell_type": "code",
      "source": [
        "arranjo1 = [10,11,2,300,100,130,20,50,3]\n",
        "\n",
        "print(heapSort(arranjo1))"
      ],
      "metadata": {
        "colab": {
          "base_uri": "https://localhost:8080/"
        },
        "id": "G0gnSgyUZpkW",
        "outputId": "e347d001-bbae-4667-e5d6-20bfd753ada2"
      },
      "execution_count": null,
      "outputs": [
        {
          "output_type": "stream",
          "name": "stdout",
          "text": [
            "[2, 3, 10, 11, 20, 50, 100, 130, 300]\n"
          ]
        }
      ]
    }
  ]
}